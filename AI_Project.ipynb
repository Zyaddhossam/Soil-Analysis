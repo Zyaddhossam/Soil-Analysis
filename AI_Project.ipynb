{
 "cells": [
  {
   "cell_type": "code",
   "execution_count": null,
   "metadata": {
    "execution": {
     "iopub.execute_input": "2025-04-27T19:49:53.427177Z",
     "iopub.status.busy": "2025-04-27T19:49:53.426841Z",
     "iopub.status.idle": "2025-04-27T19:49:53.439490Z",
     "shell.execute_reply": "2025-04-27T19:49:53.438867Z",
     "shell.execute_reply.started": "2025-04-27T19:49:53.427161Z"
    },
    "trusted": true
   },
   "outputs": [],
   "source": [
    "import os\n",
    "from PIL import Image\n",
    "import numpy as np\n",
    "import pandas as pd\n",
    "import matplotlib.pyplot as plt\n",
    "import seaborn as sns\n",
    "from glob import glob\n",
    "#---------------------------------------\n",
    "from sklearn.model_selection import train_test_split\n",
    "from sklearn.metrics import classification_report, confusion_matrix\n",
    "#---------------------------------------\n",
    "import tensorflow as tf\n",
    "from tensorflow.keras.models import Sequential\n",
    "from tensorflow.keras.layers import Dense, Dropout, Flatten\n",
    "from tensorflow.keras.optimizers import Adamax\n",
    "from tensorflow.keras.metrics import Precision, Recall\n",
    "from tensorflow.keras.preprocessing.image import ImageDataGenerator\n",
    "#---------------------------------------\n",
    "import warnings\n",
    "warnings.filterwarnings(\"ignore\")"
   ]
  },
  {
   "cell_type": "code",
   "execution_count": null,
   "metadata": {},
   "outputs": [],
   "source": [
    "def train_df(tr_path):\n",
    "    classes, class_paths = zip(*[(label, os.path.join(tr_path, label, image))\n",
    "                                 for label in os.listdir(tr_path) if os.path.isdir(os.path.join(tr_path, label))\n",
    "                                 for image in os.listdir(os.path.join(tr_path, label))])\n",
    "\n",
    "    tr_df = pd.DataFrame({'Class Path': class_paths, 'Class': classes})\n",
    "    return tr_df"
   ]
  },
  {
   "cell_type": "code",
   "execution_count": null,
   "metadata": {
    "execution": {
     "iopub.execute_input": "2025-04-27T19:49:53.441758Z",
     "iopub.status.busy": "2025-04-27T19:49:53.441192Z",
     "iopub.status.idle": "2025-04-27T19:49:53.451046Z",
     "shell.execute_reply": "2025-04-27T19:49:53.450501Z",
     "shell.execute_reply.started": "2025-04-27T19:49:53.441734Z"
    },
    "trusted": true
   },
   "outputs": [],
   "source": [
    "def test_df(ts_path):\n",
    "    classes, class_paths = zip(*[(label, os.path.join(ts_path, label, image))\n",
    "                                 for label in os.listdir(ts_path) if os.path.isdir(os.path.join(ts_path, label))\n",
    "                                 for image in os.listdir(os.path.join(ts_path, label))])\n",
    "\n",
    "    ts_df = pd.DataFrame({'Class Path': class_paths, 'Class': classes})\n",
    "    return ts_df"
   ]
  },
  {
   "cell_type": "code",
   "execution_count": null,
   "metadata": {
    "execution": {
     "iopub.execute_input": "2025-04-27T19:50:36.062633Z",
     "iopub.status.busy": "2025-04-27T19:50:36.062114Z",
     "iopub.status.idle": "2025-04-27T19:50:36.096617Z",
     "shell.execute_reply": "2025-04-27T19:50:36.095924Z",
     "shell.execute_reply.started": "2025-04-27T19:50:36.062614Z"
    },
    "trusted": true
   },
   "outputs": [],
   "source": [
    "tr_df = train_df('/kaggle/input/soil-types-dataset/Dataset/Train')"
   ]
  },
  {
   "cell_type": "code",
   "execution_count": null,
   "metadata": {
    "execution": {
     "iopub.execute_input": "2025-04-27T19:50:36.652418Z",
     "iopub.status.busy": "2025-04-27T19:50:36.652160Z",
     "iopub.status.idle": "2025-04-27T19:50:36.665497Z",
     "shell.execute_reply": "2025-04-27T19:50:36.664714Z",
     "shell.execute_reply.started": "2025-04-27T19:50:36.652397Z"
    },
    "trusted": true
   },
   "outputs": [],
   "source": [
    "tr_df"
   ]
  },
  {
   "cell_type": "code",
   "execution_count": null,
   "metadata": {
    "execution": {
     "iopub.execute_input": "2025-04-27T19:51:02.959150Z",
     "iopub.status.busy": "2025-04-27T19:51:02.958681Z",
     "iopub.status.idle": "2025-04-27T19:51:03.002882Z",
     "shell.execute_reply": "2025-04-27T19:51:03.002422Z",
     "shell.execute_reply.started": "2025-04-27T19:51:02.959127Z"
    },
    "trusted": true
   },
   "outputs": [],
   "source": [
    "ts_df = test_df('/kaggle/input/soil-types-dataset/Dataset/test')"
   ]
  },
  {
   "cell_type": "code",
   "execution_count": null,
   "metadata": {
    "execution": {
     "iopub.execute_input": "2025-04-27T19:51:05.667901Z",
     "iopub.status.busy": "2025-04-27T19:51:05.667594Z",
     "iopub.status.idle": "2025-04-27T19:51:05.676199Z",
     "shell.execute_reply": "2025-04-27T19:51:05.675548Z",
     "shell.execute_reply.started": "2025-04-27T19:51:05.667882Z"
    },
    "trusted": true
   },
   "outputs": [],
   "source": [
    "ts_df"
   ]
  },
  {
   "cell_type": "code",
   "execution_count": null,
   "metadata": {
    "execution": {
     "iopub.execute_input": "2025-04-27T19:51:12.426113Z",
     "iopub.status.busy": "2025-04-27T19:51:12.425452Z",
     "iopub.status.idle": "2025-04-27T19:51:12.669080Z",
     "shell.execute_reply": "2025-04-27T19:51:12.668340Z",
     "shell.execute_reply.started": "2025-04-27T19:51:12.426090Z"
    },
    "trusted": true
   },
   "outputs": [],
   "source": [
    "# Count of images in each class in train data\n",
    "plt.figure(figsize=(15,7))\n",
    "ax = sns.countplot(data=tr_df , y=tr_df['Class'])\n",
    "\n",
    "plt.xlabel('')\n",
    "plt.ylabel('')\n",
    "plt.title('Count of images in each class', fontsize=20)\n",
    "ax.bar_label(ax.containers[0])\n",
    "plt.show()"
   ]
  },
  {
   "cell_type": "code",
   "execution_count": null,
   "metadata": {
    "execution": {
     "iopub.execute_input": "2025-04-27T19:51:22.040844Z",
     "iopub.status.busy": "2025-04-27T19:51:22.040358Z",
     "iopub.status.idle": "2025-04-27T19:51:22.206092Z",
     "shell.execute_reply": "2025-04-27T19:51:22.205420Z",
     "shell.execute_reply.started": "2025-04-27T19:51:22.040815Z"
    },
    "trusted": true
   },
   "outputs": [],
   "source": [
    "#Count each class in test data\n",
    "plt.figure(figsize=(15, 7))\n",
    "ax = sns.countplot(y=ts_df['Class'], palette='viridis')\n",
    "\n",
    "ax.set(xlabel='', ylabel='', title='Count of images in each class')\n",
    "ax.bar_label(ax.containers[0])\n",
    "\n",
    "plt.show()"
   ]
  },
  {
   "cell_type": "code",
   "execution_count": null,
   "metadata": {
    "execution": {
     "iopub.execute_input": "2025-04-27T19:51:55.134099Z",
     "iopub.status.busy": "2025-04-27T19:51:55.133351Z",
     "iopub.status.idle": "2025-04-27T19:51:55.141085Z",
     "shell.execute_reply": "2025-04-27T19:51:55.140406Z",
     "shell.execute_reply.started": "2025-04-27T19:51:55.134059Z"
    },
    "trusted": true
   },
   "outputs": [],
   "source": [
    "valid_df, ts_df = train_test_split(ts_df, train_size=0.5, random_state=20, stratify=ts_df['Class'])"
   ]
  },
  {
   "cell_type": "code",
   "execution_count": null,
   "metadata": {
    "execution": {
     "iopub.execute_input": "2025-04-27T19:52:02.430017Z",
     "iopub.status.busy": "2025-04-27T19:52:02.429513Z",
     "iopub.status.idle": "2025-04-27T19:52:02.438390Z",
     "shell.execute_reply": "2025-04-27T19:52:02.437625Z",
     "shell.execute_reply.started": "2025-04-27T19:52:02.429994Z"
    },
    "trusted": true
   },
   "outputs": [],
   "source": [
    "valid_df"
   ]
  },
  {
   "cell_type": "code",
   "execution_count": null,
   "metadata": {
    "execution": {
     "iopub.execute_input": "2025-04-27T19:52:09.477219Z",
     "iopub.status.busy": "2025-04-27T19:52:09.476516Z",
     "iopub.status.idle": "2025-04-27T19:52:09.484857Z",
     "shell.execute_reply": "2025-04-27T19:52:09.484204Z",
     "shell.execute_reply.started": "2025-04-27T19:52:09.477195Z"
    },
    "trusted": true
   },
   "outputs": [],
   "source": [
    "ts_df"
   ]
  },
  {
   "cell_type": "code",
   "execution_count": null,
   "metadata": {
    "execution": {
     "iopub.execute_input": "2025-04-27T19:52:27.328749Z",
     "iopub.status.busy": "2025-04-27T19:52:27.328217Z",
     "iopub.status.idle": "2025-04-27T19:52:29.184538Z",
     "shell.execute_reply": "2025-04-27T19:52:29.183783Z",
     "shell.execute_reply.started": "2025-04-27T19:52:27.328725Z"
    },
    "trusted": true
   },
   "outputs": [],
   "source": [
    "batch_size = 32\n",
    "img_size = (299, 299)\n",
    "\n",
    "_gen = ImageDataGenerator(rescale=1/255,\n",
    "                          brightness_range=(0.8, 1.2))\n",
    "\n",
    "ts_gen = ImageDataGenerator(rescale=1/255)\n",
    "\n",
    "\n",
    "tr_gen = _gen.flow_from_dataframe(tr_df, x_col='Class Path',\n",
    "                                  y_col='Class', batch_size=batch_size,\n",
    "                                  target_size=img_size)\n",
    "\n",
    "valid_gen = _gen.flow_from_dataframe(valid_df, x_col='Class Path',\n",
    "                                     y_col='Class', batch_size=batch_size,\n",
    "                                     target_size=img_size)\n",
    "\n",
    "ts_gen = ts_gen.flow_from_dataframe(ts_df, x_col='Class Path',\n",
    "                                  y_col='Class', batch_size=16,\n",
    "                                  target_size=img_size, shuffle=False)"
   ]
  },
  {
   "cell_type": "code",
   "execution_count": null,
   "metadata": {
    "execution": {
     "iopub.execute_input": "2025-04-27T19:52:35.356824Z",
     "iopub.status.busy": "2025-04-27T19:52:35.356482Z",
     "iopub.status.idle": "2025-04-27T19:52:38.447842Z",
     "shell.execute_reply": "2025-04-27T19:52:38.446732Z",
     "shell.execute_reply.started": "2025-04-27T19:52:35.356804Z"
    },
    "trusted": true
   },
   "outputs": [],
   "source": [
    "class_dict = tr_gen.class_indices\n",
    "classes = list(class_dict.keys())\n",
    "images, labels = next(ts_gen)\n",
    "\n",
    "plt.figure(figsize=(20, 20))\n",
    "\n",
    "for i, (image, label) in enumerate(zip(images, labels)):\n",
    "    plt.subplot(4,4, i + 1)\n",
    "    plt.imshow(image)\n",
    "    class_name = classes[np.argmax(label)]\n",
    "    plt.title(class_name, color='k', fontsize=15)\n",
    "\n",
    "plt.show()"
   ]
  },
  {
   "cell_type": "code",
   "execution_count": null,
   "metadata": {
    "execution": {
     "iopub.execute_input": "2025-04-27T19:53:12.859796Z",
     "iopub.status.busy": "2025-04-27T19:53:12.859217Z",
     "iopub.status.idle": "2025-04-27T19:53:16.906245Z",
     "shell.execute_reply": "2025-04-27T19:53:16.905694Z",
     "shell.execute_reply.started": "2025-04-27T19:53:12.859774Z"
    },
    "trusted": true
   },
   "outputs": [],
   "source": [
    "img_shape=(299,299,3)\n",
    "base_model = tf.keras.applications.Xception(include_top= False, weights= \"imagenet\",\n",
    "                            input_shape= img_shape, pooling= 'max')\n",
    "\n",
    "model = Sequential([\n",
    "    base_model,\n",
    "    Flatten(),\n",
    "    Dropout(rate= 0.4),\n",
    "    Dense(128, activation= 'relu'),\n",
    "    Dropout(rate= 0.4),\n",
    "    Dense(4, activation= 'softmax')\n",
    "])\n",
    "\n",
    "model.compile(Adamax(learning_rate= 0.001),\n",
    "              loss= 'categorical_crossentropy',\n",
    "              metrics= ['accuracy',\n",
    "                        Precision(),\n",
    "                        Recall()])\n",
    "\n",
    "model.summary()"
   ]
  },
  {
   "cell_type": "code",
   "execution_count": null,
   "metadata": {
    "execution": {
     "iopub.execute_input": "2025-04-27T19:53:20.962643Z",
     "iopub.status.busy": "2025-04-27T19:53:20.961976Z",
     "iopub.status.idle": "2025-04-27T19:53:21.204547Z",
     "shell.execute_reply": "2025-04-27T19:53:21.203895Z",
     "shell.execute_reply.started": "2025-04-27T19:53:20.962618Z"
    },
    "trusted": true
   },
   "outputs": [],
   "source": [
    "tf.keras.utils.plot_model(model, show_shapes=True)"
   ]
  },
  {
   "cell_type": "code",
   "execution_count": null,
   "metadata": {
    "execution": {
     "iopub.execute_input": "2025-04-27T19:53:29.356805Z",
     "iopub.status.busy": "2025-04-27T19:53:29.356527Z"
    },
    "trusted": true
   },
   "outputs": [],
   "source": [
    "hist = model.fit(tr_gen,\n",
    "                 epochs=10,\n",
    "                 validation_data=valid_gen,\n",
    "                 shuffle= False)"
   ]
  },
  {
   "cell_type": "code",
   "execution_count": null,
   "metadata": {
    "trusted": true
   },
   "outputs": [],
   "source": [
    "hist.history.keys()"
   ]
  },
  {
   "cell_type": "code",
   "execution_count": null,
   "metadata": {
    "trusted": true
   },
   "outputs": [],
   "source": [
    "tr_acc = hist.history['accuracy']\n",
    "tr_loss = hist.history['loss']\n",
    "tr_per = hist.history['precision']\n",
    "tr_recall = hist.history['recall']\n",
    "val_acc = hist.history['val_accuracy']\n",
    "val_loss = hist.history['val_loss']\n",
    "val_per = hist.history['val_precision']\n",
    "val_recall = hist.history['val_recall']\n",
    "\n",
    "index_loss = np.argmin(val_loss)\n",
    "val_lowest = val_loss[index_loss]\n",
    "index_acc = np.argmax(val_acc)\n",
    "acc_highest = val_acc[index_acc]\n",
    "index_precision = np.argmax(val_per)\n",
    "per_highest = val_per[index_precision]\n",
    "index_recall = np.argmax(val_recall)\n",
    "recall_highest = val_recall[index_recall]\n",
    "\n",
    "Epochs = [i + 1 for i in range(len(tr_acc))]\n",
    "loss_label = f'Best epoch = {str(index_loss + 1)}'\n",
    "acc_label = f'Best epoch = {str(index_acc + 1)}'\n",
    "per_label = f'Best epoch = {str(index_precision + 1)}'\n",
    "recall_label = f'Best epoch = {str(index_recall + 1)}'\n",
    "\n",
    "\n",
    "plt.figure(figsize=(20, 12))\n",
    "plt.style.use('fivethirtyeight')\n",
    "\n",
    "\n",
    "plt.subplot(2, 2, 1)\n",
    "plt.plot(Epochs, tr_loss, 'r', label='Training loss')\n",
    "plt.plot(Epochs, val_loss, 'g', label='Validation loss')\n",
    "plt.scatter(index_loss + 1, val_lowest, s=150, c='blue', label=loss_label)\n",
    "plt.title('Training and Validation Loss')\n",
    "plt.xlabel('Epochs')\n",
    "plt.ylabel('Loss')\n",
    "plt.legend()\n",
    "plt.grid(True)\n",
    "\n",
    "plt.subplot(2, 2, 2)\n",
    "plt.plot(Epochs, tr_acc, 'r', label='Training Accuracy')\n",
    "plt.plot(Epochs, val_acc, 'g', label='Validation Accuracy')\n",
    "plt.scatter(index_acc + 1, acc_highest, s=150, c='blue', label=acc_label)\n",
    "plt.title('Training and Validation Accuracy')\n",
    "plt.xlabel('Epochs')\n",
    "plt.ylabel('Accuracy')\n",
    "plt.legend()\n",
    "plt.grid(True)\n",
    "\n",
    "plt.subplot(2, 2, 3)\n",
    "plt.plot(Epochs, tr_per, 'r', label='Precision')\n",
    "plt.plot(Epochs, val_per, 'g', label='Validation Precision')\n",
    "plt.scatter(index_precision + 1, per_highest, s=150, c='blue', label=per_label)\n",
    "plt.title('Precision and Validation Precision')\n",
    "plt.xlabel('Epochs')\n",
    "plt.ylabel('Precision')\n",
    "plt.legend()\n",
    "plt.grid(True)\n",
    "\n",
    "plt.subplot(2, 2, 4)\n",
    "plt.plot(Epochs, tr_recall, 'r', label='Recall')\n",
    "plt.plot(Epochs, val_recall, 'g', label='Validation Recall')\n",
    "plt.scatter(index_recall + 1, recall_highest, s=150, c='blue', label=recall_label)\n",
    "plt.title('Recall and Validation Recall')\n",
    "plt.xlabel('Epochs')\n",
    "plt.ylabel('Recall')\n",
    "plt.legend()\n",
    "plt.grid(True)\n",
    "\n",
    "plt.suptitle('Model Training Metrics Over Epochs', fontsize=16)\n",
    "plt.show()"
   ]
  },
  {
   "cell_type": "code",
   "execution_count": null,
   "metadata": {
    "trusted": true
   },
   "outputs": [],
   "source": [
    "train_score = model.evaluate(tr_gen, verbose=1)\n",
    "valid_score = model.evaluate(valid_gen, verbose=1)\n",
    "test_score = model.evaluate(ts_gen, verbose=1)\n",
    "\n",
    "print(f\"Train Loss: {train_score[0]:.4f}\")\n",
    "print(f\"Train Accuracy: {train_score[1]*100:.2f}%\")\n",
    "print('-' * 20)\n",
    "print(f\"Validation Loss: {valid_score[0]:.4f}\")\n",
    "print(f\"Validation Accuracy: {valid_score[1]*100:.2f}%\")\n",
    "print('-' * 20)\n",
    "print(f\"Test Loss: {test_score[0]:.4f}\")\n",
    "print(f\"Test Accuracy: {test_score[1]*100:.2f}%\")\n"
   ]
  },
  {
   "cell_type": "code",
   "execution_count": null,
   "metadata": {
    "trusted": true
   },
   "outputs": [],
   "source": [
    "preds = model.predict(ts_gen)\n",
    "y_pred = np.argmax(preds, axis=1)"
   ]
  },
  {
   "cell_type": "code",
   "execution_count": null,
   "metadata": {
    "trusted": true
   },
   "outputs": [],
   "source": [
    "cm = confusion_matrix(ts_gen.classes, y_pred)\n",
    "labels = list(class_dict.keys())\n",
    "plt.figure(figsize=(10,8))\n",
    "sns.heatmap(cm, annot=True, fmt='d', cmap='Blues', xticklabels=labels, yticklabels=labels)\n",
    "plt.xlabel('Predicted Label')\n",
    "plt.ylabel('Truth Label')\n",
    "plt.show()"
   ]
  },
  {
   "cell_type": "code",
   "execution_count": null,
   "metadata": {
    "trusted": true
   },
   "outputs": [],
   "source": [
    "clr = classification_report(ts_gen.classes, y_pred)\n",
    "print(clr)"
   ]
  },
  {
   "cell_type": "code",
   "execution_count": null,
   "metadata": {
    "trusted": true
   },
   "outputs": [],
   "source": [
    "def predict(img_path):\n",
    "    import numpy as np\n",
    "    import matplotlib.pyplot as plt\n",
    "    from PIL import Image\n",
    "    label = list(class_dict.keys())\n",
    "    plt.figure(figsize=(12, 12))\n",
    "    img = Image.open(img_path)\n",
    "    resized_img = img.resize((299, 299))\n",
    "    img = np.asarray(resized_img)\n",
    "    img = np.expand_dims(img, axis=0)\n",
    "    img = img / 255\n",
    "    predictions = model.predict(img)\n",
    "    probs = list(predictions[0])\n",
    "    labels = label\n",
    "    plt.subplot(2, 1, 1)\n",
    "    plt.imshow(resized_img)\n",
    "    plt.subplot(2, 1, 2)\n",
    "    bars = plt.barh(labels, probs)\n",
    "    plt.xlabel('Probability', fontsize=15)\n",
    "    ax = plt.gca()\n",
    "    ax.bar_label(bars, fmt = '%.2f')\n",
    "    plt.show()"
   ]
  },
  {
   "cell_type": "code",
   "execution_count": null,
   "metadata": {
    "trusted": true
   },
   "outputs": [],
   "source": [
    "predict('/kaggle/input/soil-types-dataset/Dataset/test/Alluvial soil/Alluvial_1.jpg')"
   ]
  }
 ],
 "metadata": {
  "kaggle": {
   "accelerator": "nvidiaTeslaT4",
   "dataSources": [
    {
     "datasetId": 3653989,
     "sourceId": 6345760,
     "sourceType": "datasetVersion"
    }
   ],
   "dockerImageVersionId": 31011,
   "isGpuEnabled": true,
   "isInternetEnabled": true,
   "language": "python",
   "sourceType": "notebook"
  },
  "kernelspec": {
   "display_name": "Python 3",
   "language": "python",
   "name": "python3"
  },
  "language_info": {
   "codemirror_mode": {
    "name": "ipython",
    "version": 3
   },
   "file_extension": ".py",
   "mimetype": "text/x-python",
   "name": "python",
   "nbconvert_exporter": "python",
   "pygments_lexer": "ipython3",
   "version": "3.13.3"
  }
 },
 "nbformat": 4,
 "nbformat_minor": 4
}
